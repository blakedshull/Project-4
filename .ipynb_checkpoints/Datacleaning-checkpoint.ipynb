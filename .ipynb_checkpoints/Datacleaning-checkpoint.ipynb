{
 "cells": [
  {
   "cell_type": "code",
   "execution_count": 1,
   "id": "58e0a460",
   "metadata": {},
   "outputs": [],
   "source": [
    "import matplotlib.pyplot as plt\n",
    "import pandas as pd\n",
    "import numpy as np"
   ]
  },
  {
   "cell_type": "code",
   "execution_count": 2,
   "id": "207a0116",
   "metadata": {},
   "outputs": [],
   "source": [
    "df = pd.read_csv(\"Alzheimer_s_Disease_and_Healthy_Aging_Data.csv\", low_memory=False)"
   ]
  },
  {
   "cell_type": "code",
   "execution_count": 3,
   "id": "f5e3bcc8",
   "metadata": {},
   "outputs": [
    {
     "data": {
      "text/html": [
       "<div>\n",
       "<style scoped>\n",
       "    .dataframe tbody tr th:only-of-type {\n",
       "        vertical-align: middle;\n",
       "    }\n",
       "\n",
       "    .dataframe tbody tr th {\n",
       "        vertical-align: top;\n",
       "    }\n",
       "\n",
       "    .dataframe thead th {\n",
       "        text-align: right;\n",
       "    }\n",
       "</style>\n",
       "<table border=\"1\" class=\"dataframe\">\n",
       "  <thead>\n",
       "    <tr style=\"text-align: right;\">\n",
       "      <th></th>\n",
       "      <th>RowId</th>\n",
       "      <th>YearStart</th>\n",
       "      <th>YearEnd</th>\n",
       "      <th>LocationAbbr</th>\n",
       "      <th>LocationDesc</th>\n",
       "      <th>Datasource</th>\n",
       "      <th>Class</th>\n",
       "      <th>Topic</th>\n",
       "      <th>Question</th>\n",
       "      <th>Response</th>\n",
       "      <th>...</th>\n",
       "      <th>QuestionID</th>\n",
       "      <th>ResponseID</th>\n",
       "      <th>LocationID</th>\n",
       "      <th>StratificationCategoryID1</th>\n",
       "      <th>StratificationID1</th>\n",
       "      <th>StratificationCategoryID2</th>\n",
       "      <th>StratificationID2</th>\n",
       "      <th>StratificationCategoryID3</th>\n",
       "      <th>StratificationID3</th>\n",
       "      <th>Report</th>\n",
       "    </tr>\n",
       "  </thead>\n",
       "  <tbody>\n",
       "    <tr>\n",
       "      <th>0</th>\n",
       "      <td>NaN</td>\n",
       "      <td>2020</td>\n",
       "      <td>2020</td>\n",
       "      <td>HI</td>\n",
       "      <td>Hawaii</td>\n",
       "      <td>BRFSS</td>\n",
       "      <td>Overall Health</td>\n",
       "      <td>Arthritis among older adults</td>\n",
       "      <td>Percentage of older adults ever told they have...</td>\n",
       "      <td>NaN</td>\n",
       "      <td>...</td>\n",
       "      <td>Q43</td>\n",
       "      <td>NaN</td>\n",
       "      <td>15</td>\n",
       "      <td>AGE</td>\n",
       "      <td>5064</td>\n",
       "      <td>OVERALL</td>\n",
       "      <td>OVERALL</td>\n",
       "      <td>NaN</td>\n",
       "      <td>NaN</td>\n",
       "      <td>NaN</td>\n",
       "    </tr>\n",
       "    <tr>\n",
       "      <th>1</th>\n",
       "      <td>NaN</td>\n",
       "      <td>2017</td>\n",
       "      <td>2017</td>\n",
       "      <td>ID</td>\n",
       "      <td>Idaho</td>\n",
       "      <td>BRFSS</td>\n",
       "      <td>Mental Health</td>\n",
       "      <td>Lifetime diagnosis of depression</td>\n",
       "      <td>Percentage of older adults with a lifetime dia...</td>\n",
       "      <td>NaN</td>\n",
       "      <td>...</td>\n",
       "      <td>Q27</td>\n",
       "      <td>NaN</td>\n",
       "      <td>16</td>\n",
       "      <td>AGE</td>\n",
       "      <td>5064</td>\n",
       "      <td>OVERALL</td>\n",
       "      <td>OVERALL</td>\n",
       "      <td>NaN</td>\n",
       "      <td>NaN</td>\n",
       "      <td>NaN</td>\n",
       "    </tr>\n",
       "    <tr>\n",
       "      <th>2</th>\n",
       "      <td>NaN</td>\n",
       "      <td>2017</td>\n",
       "      <td>2017</td>\n",
       "      <td>ID</td>\n",
       "      <td>Idaho</td>\n",
       "      <td>BRFSS</td>\n",
       "      <td>Overall Health</td>\n",
       "      <td>Arthritis among older adults</td>\n",
       "      <td>Percentage of older adults ever told they have...</td>\n",
       "      <td>NaN</td>\n",
       "      <td>...</td>\n",
       "      <td>Q43</td>\n",
       "      <td>NaN</td>\n",
       "      <td>16</td>\n",
       "      <td>AGE</td>\n",
       "      <td>5064</td>\n",
       "      <td>OVERALL</td>\n",
       "      <td>OVERALL</td>\n",
       "      <td>NaN</td>\n",
       "      <td>NaN</td>\n",
       "      <td>NaN</td>\n",
       "    </tr>\n",
       "    <tr>\n",
       "      <th>3</th>\n",
       "      <td>NaN</td>\n",
       "      <td>2018</td>\n",
       "      <td>2018</td>\n",
       "      <td>ID</td>\n",
       "      <td>Idaho</td>\n",
       "      <td>BRFSS</td>\n",
       "      <td>Overall Health</td>\n",
       "      <td>Physically unhealthy days (mean number of days)</td>\n",
       "      <td>Physically unhealthy days (mean number of days...</td>\n",
       "      <td>NaN</td>\n",
       "      <td>...</td>\n",
       "      <td>Q08</td>\n",
       "      <td>NaN</td>\n",
       "      <td>16</td>\n",
       "      <td>AGE</td>\n",
       "      <td>5064</td>\n",
       "      <td>OVERALL</td>\n",
       "      <td>OVERALL</td>\n",
       "      <td>NaN</td>\n",
       "      <td>NaN</td>\n",
       "      <td>NaN</td>\n",
       "    </tr>\n",
       "    <tr>\n",
       "      <th>4</th>\n",
       "      <td>NaN</td>\n",
       "      <td>2020</td>\n",
       "      <td>2020</td>\n",
       "      <td>IN</td>\n",
       "      <td>Indiana</td>\n",
       "      <td>BRFSS</td>\n",
       "      <td>Mental Health</td>\n",
       "      <td>Lifetime diagnosis of depression</td>\n",
       "      <td>Percentage of older adults with a lifetime dia...</td>\n",
       "      <td>NaN</td>\n",
       "      <td>...</td>\n",
       "      <td>Q27</td>\n",
       "      <td>NaN</td>\n",
       "      <td>18</td>\n",
       "      <td>AGE</td>\n",
       "      <td>AGE_OVERALL</td>\n",
       "      <td>GENDER</td>\n",
       "      <td>MALE</td>\n",
       "      <td>NaN</td>\n",
       "      <td>NaN</td>\n",
       "      <td>NaN</td>\n",
       "    </tr>\n",
       "  </tbody>\n",
       "</table>\n",
       "<p>5 rows × 39 columns</p>\n",
       "</div>"
      ],
      "text/plain": [
       "   RowId  YearStart  YearEnd LocationAbbr LocationDesc Datasource  \\\n",
       "0    NaN       2020     2020           HI       Hawaii      BRFSS   \n",
       "1    NaN       2017     2017           ID        Idaho      BRFSS   \n",
       "2    NaN       2017     2017           ID        Idaho      BRFSS   \n",
       "3    NaN       2018     2018           ID        Idaho      BRFSS   \n",
       "4    NaN       2020     2020           IN      Indiana      BRFSS   \n",
       "\n",
       "            Class                                            Topic  \\\n",
       "0  Overall Health                     Arthritis among older adults   \n",
       "1   Mental Health                 Lifetime diagnosis of depression   \n",
       "2  Overall Health                     Arthritis among older adults   \n",
       "3  Overall Health  Physically unhealthy days (mean number of days)   \n",
       "4   Mental Health                 Lifetime diagnosis of depression   \n",
       "\n",
       "                                            Question  Response  ...  \\\n",
       "0  Percentage of older adults ever told they have...       NaN  ...   \n",
       "1  Percentage of older adults with a lifetime dia...       NaN  ...   \n",
       "2  Percentage of older adults ever told they have...       NaN  ...   \n",
       "3  Physically unhealthy days (mean number of days...       NaN  ...   \n",
       "4  Percentage of older adults with a lifetime dia...       NaN  ...   \n",
       "\n",
       "  QuestionID ResponseID LocationID  StratificationCategoryID1  \\\n",
       "0        Q43        NaN         15                        AGE   \n",
       "1        Q27        NaN         16                        AGE   \n",
       "2        Q43        NaN         16                        AGE   \n",
       "3        Q08        NaN         16                        AGE   \n",
       "4        Q27        NaN         18                        AGE   \n",
       "\n",
       "   StratificationID1 StratificationCategoryID2 StratificationID2  \\\n",
       "0               5064                   OVERALL           OVERALL   \n",
       "1               5064                   OVERALL           OVERALL   \n",
       "2               5064                   OVERALL           OVERALL   \n",
       "3               5064                   OVERALL           OVERALL   \n",
       "4        AGE_OVERALL                    GENDER              MALE   \n",
       "\n",
       "  StratificationCategoryID3 StratificationID3  Report  \n",
       "0                       NaN               NaN     NaN  \n",
       "1                       NaN               NaN     NaN  \n",
       "2                       NaN               NaN     NaN  \n",
       "3                       NaN               NaN     NaN  \n",
       "4                       NaN               NaN     NaN  \n",
       "\n",
       "[5 rows x 39 columns]"
      ]
     },
     "execution_count": 3,
     "metadata": {},
     "output_type": "execute_result"
    }
   ],
   "source": [
    "df.head()"
   ]
  },
  {
   "cell_type": "code",
   "execution_count": 4,
   "id": "d4ef01ec",
   "metadata": {},
   "outputs": [
    {
     "data": {
      "text/plain": [
       "RowId                         float64\n",
       "YearStart                       int64\n",
       "YearEnd                         int64\n",
       "LocationAbbr                   object\n",
       "LocationDesc                   object\n",
       "Datasource                     object\n",
       "Class                          object\n",
       "Topic                          object\n",
       "Question                       object\n",
       "Response                      float64\n",
       "Data_Value_Unit                object\n",
       "DataValueTypeID                object\n",
       "Data_Value_Type                object\n",
       "Data_Value                    float64\n",
       "Data_Value_Alt                float64\n",
       "Data_Value_Footnote_Symbol     object\n",
       "Data_Value_Footnote            object\n",
       "Low_Confidence_Limit           object\n",
       "High_Confidence_Limit          object\n",
       "Sample_Size                   float64\n",
       "StratificationCategory1        object\n",
       "Stratification1                object\n",
       "StratificationCategory2        object\n",
       "Stratification2                object\n",
       "StratificationCategory3       float64\n",
       "Stratification3               float64\n",
       "Geolocation                    object\n",
       "ClassID                        object\n",
       "TopicID                        object\n",
       "QuestionID                     object\n",
       "ResponseID                    float64\n",
       "LocationID                      int64\n",
       "StratificationCategoryID1      object\n",
       "StratificationID1              object\n",
       "StratificationCategoryID2      object\n",
       "StratificationID2              object\n",
       "StratificationCategoryID3     float64\n",
       "StratificationID3             float64\n",
       "Report                        float64\n",
       "dtype: object"
      ]
     },
     "execution_count": 4,
     "metadata": {},
     "output_type": "execute_result"
    }
   ],
   "source": [
    "df.dtypes"
   ]
  },
  {
   "cell_type": "code",
   "execution_count": 5,
   "id": "6c98dea9",
   "metadata": {},
   "outputs": [],
   "source": [
    "df['RowId'] = df['RowId'].astype(\"string\")"
   ]
  },
  {
   "cell_type": "code",
   "execution_count": 6,
   "id": "75dbe4cd",
   "metadata": {
    "scrolled": true
   },
   "outputs": [
    {
     "data": {
      "text/plain": [
       "Series([], Name: RowId, dtype: Int64)"
      ]
     },
     "execution_count": 6,
     "metadata": {},
     "output_type": "execute_result"
    }
   ],
   "source": [
    "df['RowId'].value_counts()"
   ]
  },
  {
   "cell_type": "code",
   "execution_count": 7,
   "id": "65b4ff65",
   "metadata": {
    "scrolled": true
   },
   "outputs": [
    {
     "data": {
      "text/plain": [
       "count    0.0\n",
       "mean     NaN\n",
       "std      NaN\n",
       "min      NaN\n",
       "25%      NaN\n",
       "50%      NaN\n",
       "75%      NaN\n",
       "max      NaN\n",
       "Name: Response, dtype: float64"
      ]
     },
     "execution_count": 7,
     "metadata": {},
     "output_type": "execute_result"
    }
   ],
   "source": [
    "df['Response'].describe()"
   ]
  },
  {
   "cell_type": "code",
   "execution_count": 8,
   "id": "ca02d75a",
   "metadata": {},
   "outputs": [
    {
     "data": {
      "text/plain": [
       "count    0.0\n",
       "mean     NaN\n",
       "std      NaN\n",
       "min      NaN\n",
       "25%      NaN\n",
       "50%      NaN\n",
       "75%      NaN\n",
       "max      NaN\n",
       "Name: StratificationCategoryID3, dtype: float64"
      ]
     },
     "execution_count": 8,
     "metadata": {},
     "output_type": "execute_result"
    }
   ],
   "source": [
    "df['StratificationCategoryID3'].describe()"
   ]
  },
  {
   "cell_type": "code",
   "execution_count": 9,
   "id": "b4ced6f5",
   "metadata": {},
   "outputs": [
    {
     "data": {
      "text/plain": [
       "Series([], Name: Report, dtype: int64)"
      ]
     },
     "execution_count": 9,
     "metadata": {},
     "output_type": "execute_result"
    }
   ],
   "source": [
    "df['Report'].value_counts()"
   ]
  },
  {
   "cell_type": "code",
   "execution_count": 10,
   "id": "9c71e3ed",
   "metadata": {},
   "outputs": [],
   "source": [
    "df = df.drop(columns=['RowId', 'StratificationCategoryID3', 'StratificationID3', 'Report'])"
   ]
  },
  {
   "cell_type": "code",
   "execution_count": 11,
   "id": "bc984fa0",
   "metadata": {
    "scrolled": true
   },
   "outputs": [
    {
     "data": {
      "text/plain": [
       "AGE    214462\n",
       "Name: StratificationCategoryID1, dtype: int64"
      ]
     },
     "execution_count": 11,
     "metadata": {},
     "output_type": "execute_result"
    }
   ],
   "source": [
    "df['StratificationCategoryID1'].value_counts()"
   ]
  },
  {
   "cell_type": "code",
   "execution_count": 12,
   "id": "78a5f6db",
   "metadata": {},
   "outputs": [
    {
     "data": {
      "text/plain": [
       "AGE_OVERALL    71919\n",
       "5064           71528\n",
       "65PLUS         71015\n",
       "Name: StratificationID1, dtype: int64"
      ]
     },
     "execution_count": 12,
     "metadata": {},
     "output_type": "execute_result"
    }
   ],
   "source": [
    "df['StratificationID1'].value_counts()"
   ]
  },
  {
   "cell_type": "code",
   "execution_count": 13,
   "id": "293c7021",
   "metadata": {},
   "outputs": [
    {
     "data": {
      "text/plain": [
       "under50    71919\n",
       "50to64     71528\n",
       "over65     71015\n",
       "Name: StratificationID1, dtype: int64"
      ]
     },
     "execution_count": 13,
     "metadata": {},
     "output_type": "execute_result"
    }
   ],
   "source": [
    "df['StratificationID1'] = df['StratificationID1'].replace('AGE_OVERALL', 'under50')\n",
    "df['StratificationID1'] = df['StratificationID1'].replace('5064', '50to64')\n",
    "df['StratificationID1'] = df['StratificationID1'].replace('65PLUS', 'over65')\n",
    "df['StratificationID1'].value_counts()"
   ]
  },
  {
   "cell_type": "code",
   "execution_count": 14,
   "id": "01b58371",
   "metadata": {},
   "outputs": [
    {
     "data": {
      "text/plain": [
       "BRFSS    214462\n",
       "Name: Datasource, dtype: int64"
      ]
     },
     "execution_count": 14,
     "metadata": {},
     "output_type": "execute_result"
    }
   ],
   "source": [
    "df['Datasource'].value_counts()"
   ]
  },
  {
   "cell_type": "code",
   "execution_count": 15,
   "id": "f51c50a1",
   "metadata": {
    "scrolled": true
   },
   "outputs": [
    {
     "data": {
      "text/plain": [
       "Overall Health                         71694\n",
       "Screenings and Vaccines                46867\n",
       "Nutrition/Physical Activity/Obesity    24851\n",
       "Cognitive Decline                      19180\n",
       "Caregiving                             18671\n",
       "Mental Health                          16600\n",
       "Smoking and Alcohol Use                16599\n",
       "Name: Class, dtype: int64"
      ]
     },
     "execution_count": 15,
     "metadata": {},
     "output_type": "execute_result"
    }
   ],
   "source": [
    "df['Class'].value_counts()"
   ]
  },
  {
   "cell_type": "code",
   "execution_count": 16,
   "id": "24f196ef",
   "metadata": {},
   "outputs": [
    {
     "data": {
      "text/plain": [
       "Series([], Name: Response, dtype: int64)"
      ]
     },
     "execution_count": 16,
     "metadata": {},
     "output_type": "execute_result"
    }
   ],
   "source": [
    "df['Response'].value_counts()"
   ]
  },
  {
   "cell_type": "code",
   "execution_count": 17,
   "id": "51792205",
   "metadata": {},
   "outputs": [
    {
     "data": {
      "text/plain": [
       "Series([], Name: ResponseID, dtype: int64)"
      ]
     },
     "execution_count": 17,
     "metadata": {},
     "output_type": "execute_result"
    }
   ],
   "source": [
    "df['ResponseID'].value_counts()"
   ]
  },
  {
   "cell_type": "code",
   "execution_count": 18,
   "id": "5fbc6d79",
   "metadata": {
    "scrolled": false
   },
   "outputs": [
    {
     "data": {
      "text/html": [
       "<div>\n",
       "<style scoped>\n",
       "    .dataframe tbody tr th:only-of-type {\n",
       "        vertical-align: middle;\n",
       "    }\n",
       "\n",
       "    .dataframe tbody tr th {\n",
       "        vertical-align: top;\n",
       "    }\n",
       "\n",
       "    .dataframe thead th {\n",
       "        text-align: right;\n",
       "    }\n",
       "</style>\n",
       "<table border=\"1\" class=\"dataframe\">\n",
       "  <thead>\n",
       "    <tr style=\"text-align: right;\">\n",
       "      <th></th>\n",
       "      <th>YearStart</th>\n",
       "      <th>YearEnd</th>\n",
       "      <th>LocationAbbr</th>\n",
       "      <th>LocationDesc</th>\n",
       "      <th>Class</th>\n",
       "      <th>Topic</th>\n",
       "      <th>Question</th>\n",
       "      <th>Data_Value_Unit</th>\n",
       "      <th>DataValueTypeID</th>\n",
       "      <th>Data_Value_Type</th>\n",
       "      <th>...</th>\n",
       "      <th>StratificationCategory3</th>\n",
       "      <th>Stratification3</th>\n",
       "      <th>Geolocation</th>\n",
       "      <th>ClassID</th>\n",
       "      <th>TopicID</th>\n",
       "      <th>QuestionID</th>\n",
       "      <th>LocationID</th>\n",
       "      <th>StratificationID1</th>\n",
       "      <th>StratificationCategoryID2</th>\n",
       "      <th>StratificationID2</th>\n",
       "    </tr>\n",
       "  </thead>\n",
       "  <tbody>\n",
       "    <tr>\n",
       "      <th>0</th>\n",
       "      <td>2020</td>\n",
       "      <td>2020</td>\n",
       "      <td>HI</td>\n",
       "      <td>Hawaii</td>\n",
       "      <td>Overall Health</td>\n",
       "      <td>Arthritis among older adults</td>\n",
       "      <td>Percentage of older adults ever told they have...</td>\n",
       "      <td>%</td>\n",
       "      <td>PRCTG</td>\n",
       "      <td>Percentage</td>\n",
       "      <td>...</td>\n",
       "      <td>NaN</td>\n",
       "      <td>NaN</td>\n",
       "      <td>POINT (-157.8577494 21.30485044)</td>\n",
       "      <td>C01</td>\n",
       "      <td>TOC11</td>\n",
       "      <td>Q43</td>\n",
       "      <td>15</td>\n",
       "      <td>50to64</td>\n",
       "      <td>OVERALL</td>\n",
       "      <td>OVERALL</td>\n",
       "    </tr>\n",
       "    <tr>\n",
       "      <th>1</th>\n",
       "      <td>2017</td>\n",
       "      <td>2017</td>\n",
       "      <td>ID</td>\n",
       "      <td>Idaho</td>\n",
       "      <td>Mental Health</td>\n",
       "      <td>Lifetime diagnosis of depression</td>\n",
       "      <td>Percentage of older adults with a lifetime dia...</td>\n",
       "      <td>%</td>\n",
       "      <td>PRCTG</td>\n",
       "      <td>Percentage</td>\n",
       "      <td>...</td>\n",
       "      <td>NaN</td>\n",
       "      <td>NaN</td>\n",
       "      <td>POINT (-114.36373 43.68263001)</td>\n",
       "      <td>C05</td>\n",
       "      <td>TMC03</td>\n",
       "      <td>Q27</td>\n",
       "      <td>16</td>\n",
       "      <td>50to64</td>\n",
       "      <td>OVERALL</td>\n",
       "      <td>OVERALL</td>\n",
       "    </tr>\n",
       "    <tr>\n",
       "      <th>2</th>\n",
       "      <td>2017</td>\n",
       "      <td>2017</td>\n",
       "      <td>ID</td>\n",
       "      <td>Idaho</td>\n",
       "      <td>Overall Health</td>\n",
       "      <td>Arthritis among older adults</td>\n",
       "      <td>Percentage of older adults ever told they have...</td>\n",
       "      <td>%</td>\n",
       "      <td>PRCTG</td>\n",
       "      <td>Percentage</td>\n",
       "      <td>...</td>\n",
       "      <td>NaN</td>\n",
       "      <td>NaN</td>\n",
       "      <td>POINT (-114.36373 43.68263001)</td>\n",
       "      <td>C01</td>\n",
       "      <td>TOC11</td>\n",
       "      <td>Q43</td>\n",
       "      <td>16</td>\n",
       "      <td>50to64</td>\n",
       "      <td>OVERALL</td>\n",
       "      <td>OVERALL</td>\n",
       "    </tr>\n",
       "    <tr>\n",
       "      <th>3</th>\n",
       "      <td>2018</td>\n",
       "      <td>2018</td>\n",
       "      <td>ID</td>\n",
       "      <td>Idaho</td>\n",
       "      <td>Overall Health</td>\n",
       "      <td>Physically unhealthy days (mean number of days)</td>\n",
       "      <td>Physically unhealthy days (mean number of days...</td>\n",
       "      <td>Number</td>\n",
       "      <td>MEAN</td>\n",
       "      <td>Mean</td>\n",
       "      <td>...</td>\n",
       "      <td>NaN</td>\n",
       "      <td>NaN</td>\n",
       "      <td>POINT (-114.36373 43.68263001)</td>\n",
       "      <td>C01</td>\n",
       "      <td>TOC01</td>\n",
       "      <td>Q08</td>\n",
       "      <td>16</td>\n",
       "      <td>50to64</td>\n",
       "      <td>OVERALL</td>\n",
       "      <td>OVERALL</td>\n",
       "    </tr>\n",
       "    <tr>\n",
       "      <th>4</th>\n",
       "      <td>2020</td>\n",
       "      <td>2020</td>\n",
       "      <td>IN</td>\n",
       "      <td>Indiana</td>\n",
       "      <td>Mental Health</td>\n",
       "      <td>Lifetime diagnosis of depression</td>\n",
       "      <td>Percentage of older adults with a lifetime dia...</td>\n",
       "      <td>%</td>\n",
       "      <td>PRCTG</td>\n",
       "      <td>Percentage</td>\n",
       "      <td>...</td>\n",
       "      <td>NaN</td>\n",
       "      <td>NaN</td>\n",
       "      <td>POINT (-86.14996019 39.76691045)</td>\n",
       "      <td>C05</td>\n",
       "      <td>TMC03</td>\n",
       "      <td>Q27</td>\n",
       "      <td>18</td>\n",
       "      <td>under50</td>\n",
       "      <td>GENDER</td>\n",
       "      <td>MALE</td>\n",
       "    </tr>\n",
       "  </tbody>\n",
       "</table>\n",
       "<p>5 rows × 31 columns</p>\n",
       "</div>"
      ],
      "text/plain": [
       "   YearStart  YearEnd LocationAbbr LocationDesc           Class  \\\n",
       "0       2020     2020           HI       Hawaii  Overall Health   \n",
       "1       2017     2017           ID        Idaho   Mental Health   \n",
       "2       2017     2017           ID        Idaho  Overall Health   \n",
       "3       2018     2018           ID        Idaho  Overall Health   \n",
       "4       2020     2020           IN      Indiana   Mental Health   \n",
       "\n",
       "                                             Topic  \\\n",
       "0                     Arthritis among older adults   \n",
       "1                 Lifetime diagnosis of depression   \n",
       "2                     Arthritis among older adults   \n",
       "3  Physically unhealthy days (mean number of days)   \n",
       "4                 Lifetime diagnosis of depression   \n",
       "\n",
       "                                            Question Data_Value_Unit  \\\n",
       "0  Percentage of older adults ever told they have...               %   \n",
       "1  Percentage of older adults with a lifetime dia...               %   \n",
       "2  Percentage of older adults ever told they have...               %   \n",
       "3  Physically unhealthy days (mean number of days...          Number   \n",
       "4  Percentage of older adults with a lifetime dia...               %   \n",
       "\n",
       "  DataValueTypeID Data_Value_Type  ...  StratificationCategory3  \\\n",
       "0           PRCTG      Percentage  ...                      NaN   \n",
       "1           PRCTG      Percentage  ...                      NaN   \n",
       "2           PRCTG      Percentage  ...                      NaN   \n",
       "3            MEAN            Mean  ...                      NaN   \n",
       "4           PRCTG      Percentage  ...                      NaN   \n",
       "\n",
       "   Stratification3                       Geolocation ClassID TopicID  \\\n",
       "0              NaN  POINT (-157.8577494 21.30485044)     C01   TOC11   \n",
       "1              NaN    POINT (-114.36373 43.68263001)     C05   TMC03   \n",
       "2              NaN    POINT (-114.36373 43.68263001)     C01   TOC11   \n",
       "3              NaN    POINT (-114.36373 43.68263001)     C01   TOC01   \n",
       "4              NaN  POINT (-86.14996019 39.76691045)     C05   TMC03   \n",
       "\n",
       "  QuestionID  LocationID StratificationID1 StratificationCategoryID2  \\\n",
       "0        Q43          15            50to64                   OVERALL   \n",
       "1        Q27          16            50to64                   OVERALL   \n",
       "2        Q43          16            50to64                   OVERALL   \n",
       "3        Q08          16            50to64                   OVERALL   \n",
       "4        Q27          18           under50                    GENDER   \n",
       "\n",
       "  StratificationID2  \n",
       "0           OVERALL  \n",
       "1           OVERALL  \n",
       "2           OVERALL  \n",
       "3           OVERALL  \n",
       "4              MALE  \n",
       "\n",
       "[5 rows x 31 columns]"
      ]
     },
     "execution_count": 18,
     "metadata": {},
     "output_type": "execute_result"
    }
   ],
   "source": [
    "df = df.drop(columns=['StratificationCategoryID1', 'Datasource', 'Response', 'ResponseID'])\n",
    "df.head()"
   ]
  },
  {
   "cell_type": "code",
   "execution_count": 19,
   "id": "db6bac42",
   "metadata": {},
   "outputs": [
    {
     "data": {
      "text/plain": [
       "Series([], Name: StratificationCategory3, dtype: int64)"
      ]
     },
     "execution_count": 19,
     "metadata": {},
     "output_type": "execute_result"
    }
   ],
   "source": [
    "df['StratificationCategory3'].value_counts()"
   ]
  },
  {
   "cell_type": "code",
   "execution_count": 20,
   "id": "a7141db0",
   "metadata": {},
   "outputs": [
    {
     "data": {
      "text/plain": [
       "Series([], Name: Stratification3, dtype: int64)"
      ]
     },
     "execution_count": 20,
     "metadata": {},
     "output_type": "execute_result"
    }
   ],
   "source": [
    "df['Stratification3'].value_counts()"
   ]
  },
  {
   "cell_type": "code",
   "execution_count": 21,
   "id": "804ec44a",
   "metadata": {
    "scrolled": false
   },
   "outputs": [
    {
     "data": {
      "text/html": [
       "<div>\n",
       "<style scoped>\n",
       "    .dataframe tbody tr th:only-of-type {\n",
       "        vertical-align: middle;\n",
       "    }\n",
       "\n",
       "    .dataframe tbody tr th {\n",
       "        vertical-align: top;\n",
       "    }\n",
       "\n",
       "    .dataframe thead th {\n",
       "        text-align: right;\n",
       "    }\n",
       "</style>\n",
       "<table border=\"1\" class=\"dataframe\">\n",
       "  <thead>\n",
       "    <tr style=\"text-align: right;\">\n",
       "      <th></th>\n",
       "      <th>YearStart</th>\n",
       "      <th>YearEnd</th>\n",
       "      <th>LocationAbbr</th>\n",
       "      <th>LocationDesc</th>\n",
       "      <th>Class</th>\n",
       "      <th>Topic</th>\n",
       "      <th>Question</th>\n",
       "      <th>Data_Value_Unit</th>\n",
       "      <th>DataValueTypeID</th>\n",
       "      <th>Data_Value_Type</th>\n",
       "      <th>...</th>\n",
       "      <th>StratificationCategory2</th>\n",
       "      <th>Stratification2</th>\n",
       "      <th>Geolocation</th>\n",
       "      <th>ClassID</th>\n",
       "      <th>TopicID</th>\n",
       "      <th>QuestionID</th>\n",
       "      <th>LocationID</th>\n",
       "      <th>StratificationID1</th>\n",
       "      <th>StratificationCategoryID2</th>\n",
       "      <th>StratificationID2</th>\n",
       "    </tr>\n",
       "  </thead>\n",
       "  <tbody>\n",
       "    <tr>\n",
       "      <th>0</th>\n",
       "      <td>2020</td>\n",
       "      <td>2020</td>\n",
       "      <td>HI</td>\n",
       "      <td>Hawaii</td>\n",
       "      <td>Overall Health</td>\n",
       "      <td>Arthritis among older adults</td>\n",
       "      <td>Percentage of older adults ever told they have...</td>\n",
       "      <td>%</td>\n",
       "      <td>PRCTG</td>\n",
       "      <td>Percentage</td>\n",
       "      <td>...</td>\n",
       "      <td>NaN</td>\n",
       "      <td>NaN</td>\n",
       "      <td>POINT (-157.8577494 21.30485044)</td>\n",
       "      <td>C01</td>\n",
       "      <td>TOC11</td>\n",
       "      <td>Q43</td>\n",
       "      <td>15</td>\n",
       "      <td>50to64</td>\n",
       "      <td>OVERALL</td>\n",
       "      <td>OVERALL</td>\n",
       "    </tr>\n",
       "    <tr>\n",
       "      <th>1</th>\n",
       "      <td>2017</td>\n",
       "      <td>2017</td>\n",
       "      <td>ID</td>\n",
       "      <td>Idaho</td>\n",
       "      <td>Mental Health</td>\n",
       "      <td>Lifetime diagnosis of depression</td>\n",
       "      <td>Percentage of older adults with a lifetime dia...</td>\n",
       "      <td>%</td>\n",
       "      <td>PRCTG</td>\n",
       "      <td>Percentage</td>\n",
       "      <td>...</td>\n",
       "      <td>NaN</td>\n",
       "      <td>NaN</td>\n",
       "      <td>POINT (-114.36373 43.68263001)</td>\n",
       "      <td>C05</td>\n",
       "      <td>TMC03</td>\n",
       "      <td>Q27</td>\n",
       "      <td>16</td>\n",
       "      <td>50to64</td>\n",
       "      <td>OVERALL</td>\n",
       "      <td>OVERALL</td>\n",
       "    </tr>\n",
       "    <tr>\n",
       "      <th>2</th>\n",
       "      <td>2017</td>\n",
       "      <td>2017</td>\n",
       "      <td>ID</td>\n",
       "      <td>Idaho</td>\n",
       "      <td>Overall Health</td>\n",
       "      <td>Arthritis among older adults</td>\n",
       "      <td>Percentage of older adults ever told they have...</td>\n",
       "      <td>%</td>\n",
       "      <td>PRCTG</td>\n",
       "      <td>Percentage</td>\n",
       "      <td>...</td>\n",
       "      <td>NaN</td>\n",
       "      <td>NaN</td>\n",
       "      <td>POINT (-114.36373 43.68263001)</td>\n",
       "      <td>C01</td>\n",
       "      <td>TOC11</td>\n",
       "      <td>Q43</td>\n",
       "      <td>16</td>\n",
       "      <td>50to64</td>\n",
       "      <td>OVERALL</td>\n",
       "      <td>OVERALL</td>\n",
       "    </tr>\n",
       "    <tr>\n",
       "      <th>3</th>\n",
       "      <td>2018</td>\n",
       "      <td>2018</td>\n",
       "      <td>ID</td>\n",
       "      <td>Idaho</td>\n",
       "      <td>Overall Health</td>\n",
       "      <td>Physically unhealthy days (mean number of days)</td>\n",
       "      <td>Physically unhealthy days (mean number of days...</td>\n",
       "      <td>Number</td>\n",
       "      <td>MEAN</td>\n",
       "      <td>Mean</td>\n",
       "      <td>...</td>\n",
       "      <td>NaN</td>\n",
       "      <td>NaN</td>\n",
       "      <td>POINT (-114.36373 43.68263001)</td>\n",
       "      <td>C01</td>\n",
       "      <td>TOC01</td>\n",
       "      <td>Q08</td>\n",
       "      <td>16</td>\n",
       "      <td>50to64</td>\n",
       "      <td>OVERALL</td>\n",
       "      <td>OVERALL</td>\n",
       "    </tr>\n",
       "    <tr>\n",
       "      <th>4</th>\n",
       "      <td>2020</td>\n",
       "      <td>2020</td>\n",
       "      <td>IN</td>\n",
       "      <td>Indiana</td>\n",
       "      <td>Mental Health</td>\n",
       "      <td>Lifetime diagnosis of depression</td>\n",
       "      <td>Percentage of older adults with a lifetime dia...</td>\n",
       "      <td>%</td>\n",
       "      <td>PRCTG</td>\n",
       "      <td>Percentage</td>\n",
       "      <td>...</td>\n",
       "      <td>Gender</td>\n",
       "      <td>Male</td>\n",
       "      <td>POINT (-86.14996019 39.76691045)</td>\n",
       "      <td>C05</td>\n",
       "      <td>TMC03</td>\n",
       "      <td>Q27</td>\n",
       "      <td>18</td>\n",
       "      <td>under50</td>\n",
       "      <td>GENDER</td>\n",
       "      <td>MALE</td>\n",
       "    </tr>\n",
       "  </tbody>\n",
       "</table>\n",
       "<p>5 rows × 29 columns</p>\n",
       "</div>"
      ],
      "text/plain": [
       "   YearStart  YearEnd LocationAbbr LocationDesc           Class  \\\n",
       "0       2020     2020           HI       Hawaii  Overall Health   \n",
       "1       2017     2017           ID        Idaho   Mental Health   \n",
       "2       2017     2017           ID        Idaho  Overall Health   \n",
       "3       2018     2018           ID        Idaho  Overall Health   \n",
       "4       2020     2020           IN      Indiana   Mental Health   \n",
       "\n",
       "                                             Topic  \\\n",
       "0                     Arthritis among older adults   \n",
       "1                 Lifetime diagnosis of depression   \n",
       "2                     Arthritis among older adults   \n",
       "3  Physically unhealthy days (mean number of days)   \n",
       "4                 Lifetime diagnosis of depression   \n",
       "\n",
       "                                            Question Data_Value_Unit  \\\n",
       "0  Percentage of older adults ever told they have...               %   \n",
       "1  Percentage of older adults with a lifetime dia...               %   \n",
       "2  Percentage of older adults ever told they have...               %   \n",
       "3  Physically unhealthy days (mean number of days...          Number   \n",
       "4  Percentage of older adults with a lifetime dia...               %   \n",
       "\n",
       "  DataValueTypeID Data_Value_Type  ...  StratificationCategory2  \\\n",
       "0           PRCTG      Percentage  ...                      NaN   \n",
       "1           PRCTG      Percentage  ...                      NaN   \n",
       "2           PRCTG      Percentage  ...                      NaN   \n",
       "3            MEAN            Mean  ...                      NaN   \n",
       "4           PRCTG      Percentage  ...                   Gender   \n",
       "\n",
       "   Stratification2                       Geolocation ClassID TopicID  \\\n",
       "0              NaN  POINT (-157.8577494 21.30485044)     C01   TOC11   \n",
       "1              NaN    POINT (-114.36373 43.68263001)     C05   TMC03   \n",
       "2              NaN    POINT (-114.36373 43.68263001)     C01   TOC11   \n",
       "3              NaN    POINT (-114.36373 43.68263001)     C01   TOC01   \n",
       "4             Male  POINT (-86.14996019 39.76691045)     C05   TMC03   \n",
       "\n",
       "  QuestionID  LocationID StratificationID1 StratificationCategoryID2  \\\n",
       "0        Q43          15            50to64                   OVERALL   \n",
       "1        Q27          16            50to64                   OVERALL   \n",
       "2        Q43          16            50to64                   OVERALL   \n",
       "3        Q08          16            50to64                   OVERALL   \n",
       "4        Q27          18           under50                    GENDER   \n",
       "\n",
       "  StratificationID2  \n",
       "0           OVERALL  \n",
       "1           OVERALL  \n",
       "2           OVERALL  \n",
       "3           OVERALL  \n",
       "4              MALE  \n",
       "\n",
       "[5 rows x 29 columns]"
      ]
     },
     "execution_count": 21,
     "metadata": {},
     "output_type": "execute_result"
    }
   ],
   "source": [
    "df = df.drop(columns=['Stratification3', 'StratificationCategory3'])\n",
    "df.head()"
   ]
  },
  {
   "cell_type": "code",
   "execution_count": 22,
   "id": "450c5b0a",
   "metadata": {},
   "outputs": [],
   "source": [
    "# All useless columns are cleared but data needs to be cleaned more"
   ]
  },
  {
   "cell_type": "code",
   "execution_count": 23,
   "id": "235e0777",
   "metadata": {},
   "outputs": [
    {
     "data": {
      "text/plain": [
       "%         197929\n",
       "Number     16533\n",
       "Name: Data_Value_Unit, dtype: int64"
      ]
     },
     "execution_count": 23,
     "metadata": {},
     "output_type": "execute_result"
    }
   ],
   "source": [
    "df['Data_Value_Unit'].value_counts()"
   ]
  },
  {
   "cell_type": "code",
   "execution_count": 24,
   "id": "6d0a5ef7",
   "metadata": {},
   "outputs": [
    {
     "data": {
      "text/plain": [
       "%              197929\n",
       "Number_mean     16533\n",
       "Name: Data_Value_Unit, dtype: int64"
      ]
     },
     "execution_count": 24,
     "metadata": {},
     "output_type": "execute_result"
    }
   ],
   "source": [
    "df['Data_Value_Unit'] = df['Data_Value_Unit'].replace('Number', 'Number_mean')\n",
    "df['Data_Value_Unit'].value_counts()"
   ]
  },
  {
   "cell_type": "code",
   "execution_count": 25,
   "id": "b3b572dd",
   "metadata": {},
   "outputs": [
    {
     "data": {
      "text/plain": [
       "Percentage    197929\n",
       "Mean           16533\n",
       "Name: Data_Value_Type, dtype: int64"
      ]
     },
     "execution_count": 25,
     "metadata": {},
     "output_type": "execute_result"
    }
   ],
   "source": [
    "df['Data_Value_Type'].value_counts()"
   ]
  },
  {
   "cell_type": "code",
   "execution_count": 26,
   "id": "fbd9bc65",
   "metadata": {},
   "outputs": [
    {
     "data": {
      "text/html": [
       "<div>\n",
       "<style scoped>\n",
       "    .dataframe tbody tr th:only-of-type {\n",
       "        vertical-align: middle;\n",
       "    }\n",
       "\n",
       "    .dataframe tbody tr th {\n",
       "        vertical-align: top;\n",
       "    }\n",
       "\n",
       "    .dataframe thead th {\n",
       "        text-align: right;\n",
       "    }\n",
       "</style>\n",
       "<table border=\"1\" class=\"dataframe\">\n",
       "  <thead>\n",
       "    <tr style=\"text-align: right;\">\n",
       "      <th></th>\n",
       "      <th>YearStart</th>\n",
       "      <th>YearEnd</th>\n",
       "      <th>LocationDesc</th>\n",
       "      <th>Class</th>\n",
       "      <th>Topic</th>\n",
       "      <th>Question</th>\n",
       "      <th>Data_Value_Unit</th>\n",
       "      <th>DataValueTypeID</th>\n",
       "      <th>Data_Value</th>\n",
       "      <th>Data_Value_Alt</th>\n",
       "      <th>...</th>\n",
       "      <th>StratificationCategory2</th>\n",
       "      <th>Stratification2</th>\n",
       "      <th>Geolocation</th>\n",
       "      <th>ClassID</th>\n",
       "      <th>TopicID</th>\n",
       "      <th>QuestionID</th>\n",
       "      <th>LocationID</th>\n",
       "      <th>StratificationID1</th>\n",
       "      <th>StratificationCategoryID2</th>\n",
       "      <th>StratificationID2</th>\n",
       "    </tr>\n",
       "  </thead>\n",
       "  <tbody>\n",
       "    <tr>\n",
       "      <th>0</th>\n",
       "      <td>2020</td>\n",
       "      <td>2020</td>\n",
       "      <td>Hawaii</td>\n",
       "      <td>Overall Health</td>\n",
       "      <td>Arthritis among older adults</td>\n",
       "      <td>Percentage of older adults ever told they have...</td>\n",
       "      <td>%</td>\n",
       "      <td>PRCTG</td>\n",
       "      <td>26.3</td>\n",
       "      <td>26.3</td>\n",
       "      <td>...</td>\n",
       "      <td>NaN</td>\n",
       "      <td>NaN</td>\n",
       "      <td>POINT (-157.8577494 21.30485044)</td>\n",
       "      <td>C01</td>\n",
       "      <td>TOC11</td>\n",
       "      <td>Q43</td>\n",
       "      <td>15</td>\n",
       "      <td>50to64</td>\n",
       "      <td>OVERALL</td>\n",
       "      <td>OVERALL</td>\n",
       "    </tr>\n",
       "    <tr>\n",
       "      <th>1</th>\n",
       "      <td>2017</td>\n",
       "      <td>2017</td>\n",
       "      <td>Idaho</td>\n",
       "      <td>Mental Health</td>\n",
       "      <td>Lifetime diagnosis of depression</td>\n",
       "      <td>Percentage of older adults with a lifetime dia...</td>\n",
       "      <td>%</td>\n",
       "      <td>PRCTG</td>\n",
       "      <td>24.0</td>\n",
       "      <td>24.0</td>\n",
       "      <td>...</td>\n",
       "      <td>NaN</td>\n",
       "      <td>NaN</td>\n",
       "      <td>POINT (-114.36373 43.68263001)</td>\n",
       "      <td>C05</td>\n",
       "      <td>TMC03</td>\n",
       "      <td>Q27</td>\n",
       "      <td>16</td>\n",
       "      <td>50to64</td>\n",
       "      <td>OVERALL</td>\n",
       "      <td>OVERALL</td>\n",
       "    </tr>\n",
       "    <tr>\n",
       "      <th>2</th>\n",
       "      <td>2017</td>\n",
       "      <td>2017</td>\n",
       "      <td>Idaho</td>\n",
       "      <td>Overall Health</td>\n",
       "      <td>Arthritis among older adults</td>\n",
       "      <td>Percentage of older adults ever told they have...</td>\n",
       "      <td>%</td>\n",
       "      <td>PRCTG</td>\n",
       "      <td>35.7</td>\n",
       "      <td>35.7</td>\n",
       "      <td>...</td>\n",
       "      <td>NaN</td>\n",
       "      <td>NaN</td>\n",
       "      <td>POINT (-114.36373 43.68263001)</td>\n",
       "      <td>C01</td>\n",
       "      <td>TOC11</td>\n",
       "      <td>Q43</td>\n",
       "      <td>16</td>\n",
       "      <td>50to64</td>\n",
       "      <td>OVERALL</td>\n",
       "      <td>OVERALL</td>\n",
       "    </tr>\n",
       "    <tr>\n",
       "      <th>3</th>\n",
       "      <td>2018</td>\n",
       "      <td>2018</td>\n",
       "      <td>Idaho</td>\n",
       "      <td>Overall Health</td>\n",
       "      <td>Physically unhealthy days (mean number of days)</td>\n",
       "      <td>Physically unhealthy days (mean number of days...</td>\n",
       "      <td>Number_mean</td>\n",
       "      <td>MEAN</td>\n",
       "      <td>4.8</td>\n",
       "      <td>4.8</td>\n",
       "      <td>...</td>\n",
       "      <td>NaN</td>\n",
       "      <td>NaN</td>\n",
       "      <td>POINT (-114.36373 43.68263001)</td>\n",
       "      <td>C01</td>\n",
       "      <td>TOC01</td>\n",
       "      <td>Q08</td>\n",
       "      <td>16</td>\n",
       "      <td>50to64</td>\n",
       "      <td>OVERALL</td>\n",
       "      <td>OVERALL</td>\n",
       "    </tr>\n",
       "    <tr>\n",
       "      <th>4</th>\n",
       "      <td>2020</td>\n",
       "      <td>2020</td>\n",
       "      <td>Indiana</td>\n",
       "      <td>Mental Health</td>\n",
       "      <td>Lifetime diagnosis of depression</td>\n",
       "      <td>Percentage of older adults with a lifetime dia...</td>\n",
       "      <td>%</td>\n",
       "      <td>PRCTG</td>\n",
       "      <td>13.7</td>\n",
       "      <td>13.7</td>\n",
       "      <td>...</td>\n",
       "      <td>Gender</td>\n",
       "      <td>Male</td>\n",
       "      <td>POINT (-86.14996019 39.76691045)</td>\n",
       "      <td>C05</td>\n",
       "      <td>TMC03</td>\n",
       "      <td>Q27</td>\n",
       "      <td>18</td>\n",
       "      <td>under50</td>\n",
       "      <td>GENDER</td>\n",
       "      <td>MALE</td>\n",
       "    </tr>\n",
       "  </tbody>\n",
       "</table>\n",
       "<p>5 rows × 27 columns</p>\n",
       "</div>"
      ],
      "text/plain": [
       "   YearStart  YearEnd LocationDesc           Class  \\\n",
       "0       2020     2020       Hawaii  Overall Health   \n",
       "1       2017     2017        Idaho   Mental Health   \n",
       "2       2017     2017        Idaho  Overall Health   \n",
       "3       2018     2018        Idaho  Overall Health   \n",
       "4       2020     2020      Indiana   Mental Health   \n",
       "\n",
       "                                             Topic  \\\n",
       "0                     Arthritis among older adults   \n",
       "1                 Lifetime diagnosis of depression   \n",
       "2                     Arthritis among older adults   \n",
       "3  Physically unhealthy days (mean number of days)   \n",
       "4                 Lifetime diagnosis of depression   \n",
       "\n",
       "                                            Question Data_Value_Unit  \\\n",
       "0  Percentage of older adults ever told they have...               %   \n",
       "1  Percentage of older adults with a lifetime dia...               %   \n",
       "2  Percentage of older adults ever told they have...               %   \n",
       "3  Physically unhealthy days (mean number of days...     Number_mean   \n",
       "4  Percentage of older adults with a lifetime dia...               %   \n",
       "\n",
       "  DataValueTypeID  Data_Value  Data_Value_Alt  ... StratificationCategory2  \\\n",
       "0           PRCTG        26.3            26.3  ...                     NaN   \n",
       "1           PRCTG        24.0            24.0  ...                     NaN   \n",
       "2           PRCTG        35.7            35.7  ...                     NaN   \n",
       "3            MEAN         4.8             4.8  ...                     NaN   \n",
       "4           PRCTG        13.7            13.7  ...                  Gender   \n",
       "\n",
       "  Stratification2                       Geolocation ClassID  TopicID  \\\n",
       "0             NaN  POINT (-157.8577494 21.30485044)     C01    TOC11   \n",
       "1             NaN    POINT (-114.36373 43.68263001)     C05    TMC03   \n",
       "2             NaN    POINT (-114.36373 43.68263001)     C01    TOC11   \n",
       "3             NaN    POINT (-114.36373 43.68263001)     C01    TOC01   \n",
       "4            Male  POINT (-86.14996019 39.76691045)     C05    TMC03   \n",
       "\n",
       "  QuestionID LocationID StratificationID1 StratificationCategoryID2  \\\n",
       "0        Q43         15            50to64                   OVERALL   \n",
       "1        Q27         16            50to64                   OVERALL   \n",
       "2        Q43         16            50to64                   OVERALL   \n",
       "3        Q08         16            50to64                   OVERALL   \n",
       "4        Q27         18           under50                    GENDER   \n",
       "\n",
       "  StratificationID2  \n",
       "0           OVERALL  \n",
       "1           OVERALL  \n",
       "2           OVERALL  \n",
       "3           OVERALL  \n",
       "4              MALE  \n",
       "\n",
       "[5 rows x 27 columns]"
      ]
     },
     "execution_count": 26,
     "metadata": {},
     "output_type": "execute_result"
    }
   ],
   "source": [
    "df = df.drop(columns=['Data_Value_Type', 'LocationAbbr'])\n",
    "df.head()"
   ]
  },
  {
   "cell_type": "code",
   "execution_count": 27,
   "id": "cc079695",
   "metadata": {},
   "outputs": [
    {
     "data": {
      "text/plain": [
       "YearStart                          0\n",
       "YearEnd                            0\n",
       "LocationDesc                       0\n",
       "Class                              0\n",
       "Topic                              0\n",
       "Question                           0\n",
       "Data_Value_Unit                    0\n",
       "DataValueTypeID                    0\n",
       "Data_Value                     69833\n",
       "Data_Value_Alt                 69833\n",
       "Data_Value_Footnote_Symbol    130219\n",
       "Data_Value_Footnote           130219\n",
       "Low_Confidence_Limit           69990\n",
       "High_Confidence_Limit          69990\n",
       "Sample_Size                   214462\n",
       "StratificationCategory1            0\n",
       "Stratification1                    0\n",
       "StratificationCategory2        27669\n",
       "Stratification2                27669\n",
       "Geolocation                    23049\n",
       "ClassID                            0\n",
       "TopicID                            0\n",
       "QuestionID                         0\n",
       "LocationID                         0\n",
       "StratificationID1                  0\n",
       "StratificationCategoryID2          0\n",
       "StratificationID2                  0\n",
       "dtype: int64"
      ]
     },
     "execution_count": 27,
     "metadata": {},
     "output_type": "execute_result"
    }
   ],
   "source": [
    "df.isna().sum()"
   ]
  },
  {
   "cell_type": "code",
   "execution_count": 28,
   "id": "ebb818ca",
   "metadata": {},
   "outputs": [
    {
     "data": {
      "text/plain": [
       "(214462, 27)"
      ]
     },
     "execution_count": 28,
     "metadata": {},
     "output_type": "execute_result"
    }
   ],
   "source": [
    "df.shape"
   ]
  },
  {
   "cell_type": "code",
   "execution_count": 29,
   "id": "1df7dcc7",
   "metadata": {},
   "outputs": [],
   "source": [
    "df = df.drop(columns='Sample_Size')"
   ]
  },
  {
   "cell_type": "code",
   "execution_count": 30,
   "id": "670ee6bf",
   "metadata": {
    "scrolled": false
   },
   "outputs": [
    {
     "data": {
      "text/plain": [
       "Percentage of older adults who are currently obese, with a body mass index (BMI) of 30 or more                                                                               8300\n",
       "Percentage of older adults who reported influenza vaccine within the past year                                                                                               8300\n",
       "Physically unhealthy days (mean number of days in past month)                                                                                                                8300\n",
       "Percentage of older adults who are experiencing frequent mental distress                                                                                                     8300\n",
       "Percentage of older adults who have smoked at least 100 cigarettes in their entire life and still smoke every day or some days                                               8300\n",
       "Percentage of older adults with a lifetime diagnosis of depression                                                                                                           8300\n",
       "Percentage of older adults who have not had any leisure time physical activity in the past month                                                                             8300\n",
       "Percentage of older adults who self-reported that their health is \"fair\" or \"poor\"                                                                                           8299\n",
       "Percentage of older adults who self-reported that their health is \"good\", \"very good\", or \"excellent\"                                                                        8299\n",
       "Percentage of older adults who reported binge drinking within the past 30 days                                                                                               8299\n",
       "Percentage of at risk adults (have diabetes, asthma, cardiovascular disease or currently smoke) who ever had a pneumococcal vaccine                                          8268\n",
       "Mean number of days with activity limitations in the past month                                                                                                              8233\n",
       "Percentage of older adults who report having a disability (includes limitations related to sensory or mobility impairments or a physical, mental, or emotional condition)    6917\n",
       "Percentage of older adults ever told they have arthritis                                                                                                                     5511\n",
       "Fair or poor health among older adults with doctor-diagnosed arthritis                                                                                                       5447\n",
       "Percentage of older adults who reported subjective cognitive decline or memory loss that is happening more often or is getting worse in the preceding 12 months              5088\n",
       "Percentage of older adults without diabetes who reported a blood sugar or diabetes test within 3 years                                                                       4808\n",
       "Percentage of older adults with subjective cognitive decline or memory loss who reported talking with a health care professional about it                                    4700\n",
       "Percentage of older adults who reported that as a result of subjective cognitive decline or memory loss that they need assistance with day-to-day activities                 4696\n",
       "Percentage of older adults who reported subjective cognitive decline or memory loss that interferes with their ability to engage in social activities or household chores    4696\n",
       "Percentage of older adults who have fallen and sustained an injury within last year                                                                                          4173\n",
       "Percentage of older adults who had either a home blood stool test within the past year or a sigmoidoscopy or colonoscopy within the past 10 years                            4173\n",
       "Percentage of older adults who report having lost 5 or fewer teeth due to decay or gum disease                                                                               4172\n",
       "Percentage of older adults getting sufficient sleep (>6 hours)                                                                                                               4171\n",
       "Percentage of older adults who are eating 3 or more vegetables daily                                                                                                         4127\n",
       "Percentage of older adults who have ever been told by a health professional that they have high blood pressure                                                               4127\n",
       "Percentage of older adults who had a cholesterol screening within the past 5 years                                                                                           4127\n",
       "Percentage of older adults who are eating 2 or more fruits daily                                                                                                             4124\n",
       "Percentage of older adults who have been told they have high blood pressure who report currently taking medication for their high blood pressure                             4108\n",
       "Severe joint pain due to arthritis among older adults with doctor-diagnosed arthritis                                                                                        4064\n",
       "Percentage of older adults who provided care for a friend or family member within the past month                                                                             3848\n",
       "Percentage of older adults currently not providing care who expect to provide care for someone with health problems in the next two years                                    3797\n",
       "Percentage of older adults who provided care for someone with dementia or other cognitive impairment within the past month                                                   3682\n",
       "Percentage of older adults who provided care to a friend or family member for six months or more                                                                             3681\n",
       "Average of 20 or more hours of care per week provided to a friend or family member                                                                                           3663\n",
       "Percentage of older adult women who are up to date with select clinical preventive services                                                                                  3280\n",
       "Percentage of older adult men who are up to date with select clinical preventive services                                                                                    3271\n",
       "Percentage of older adult women who have received a mammogram within the past 2 years                                                                                        3271\n",
       "Percentage of older adult women with an intact cervix who had a Pap test within the past 3 years                                                                             3242\n",
       "Name: Question, dtype: int64"
      ]
     },
     "execution_count": 30,
     "metadata": {},
     "output_type": "execute_result"
    }
   ],
   "source": [
    "df['Question'].value_counts()"
   ]
  },
  {
   "cell_type": "markdown",
   "id": "2ef98b43",
   "metadata": {},
   "source": [
    "## Isolating the question of obesity to one table to start, will compare which question is most effective"
   ]
  },
  {
   "cell_type": "code",
   "execution_count": 31,
   "id": "e067c202",
   "metadata": {
    "scrolled": false
   },
   "outputs": [
    {
     "data": {
      "text/html": [
       "<div>\n",
       "<style scoped>\n",
       "    .dataframe tbody tr th:only-of-type {\n",
       "        vertical-align: middle;\n",
       "    }\n",
       "\n",
       "    .dataframe tbody tr th {\n",
       "        vertical-align: top;\n",
       "    }\n",
       "\n",
       "    .dataframe thead th {\n",
       "        text-align: right;\n",
       "    }\n",
       "</style>\n",
       "<table border=\"1\" class=\"dataframe\">\n",
       "  <thead>\n",
       "    <tr style=\"text-align: right;\">\n",
       "      <th></th>\n",
       "      <th>YearStart</th>\n",
       "      <th>YearEnd</th>\n",
       "      <th>LocationDesc</th>\n",
       "      <th>Class</th>\n",
       "      <th>Topic</th>\n",
       "      <th>Question</th>\n",
       "      <th>Data_Value_Unit</th>\n",
       "      <th>DataValueTypeID</th>\n",
       "      <th>Data_Value</th>\n",
       "      <th>Data_Value_Alt</th>\n",
       "      <th>...</th>\n",
       "      <th>StratificationCategory2</th>\n",
       "      <th>Stratification2</th>\n",
       "      <th>Geolocation</th>\n",
       "      <th>ClassID</th>\n",
       "      <th>TopicID</th>\n",
       "      <th>QuestionID</th>\n",
       "      <th>LocationID</th>\n",
       "      <th>StratificationID1</th>\n",
       "      <th>StratificationCategoryID2</th>\n",
       "      <th>StratificationID2</th>\n",
       "    </tr>\n",
       "  </thead>\n",
       "  <tbody>\n",
       "    <tr>\n",
       "      <th>49</th>\n",
       "      <td>2017</td>\n",
       "      <td>2017</td>\n",
       "      <td>Alaska</td>\n",
       "      <td>Nutrition/Physical Activity/Obesity</td>\n",
       "      <td>Obesity</td>\n",
       "      <td>Percentage of older adults who are currently o...</td>\n",
       "      <td>%</td>\n",
       "      <td>PRCTG</td>\n",
       "      <td>NaN</td>\n",
       "      <td>NaN</td>\n",
       "      <td>...</td>\n",
       "      <td>Race/Ethnicity</td>\n",
       "      <td>Hispanic</td>\n",
       "      <td>POINT (-147.722059 64.84507996)</td>\n",
       "      <td>C02</td>\n",
       "      <td>TNC04</td>\n",
       "      <td>Q13</td>\n",
       "      <td>2</td>\n",
       "      <td>over65</td>\n",
       "      <td>RACE</td>\n",
       "      <td>HIS</td>\n",
       "    </tr>\n",
       "    <tr>\n",
       "      <th>56</th>\n",
       "      <td>2017</td>\n",
       "      <td>2017</td>\n",
       "      <td>Arizona</td>\n",
       "      <td>Nutrition/Physical Activity/Obesity</td>\n",
       "      <td>Obesity</td>\n",
       "      <td>Percentage of older adults who are currently o...</td>\n",
       "      <td>%</td>\n",
       "      <td>PRCTG</td>\n",
       "      <td>54.6</td>\n",
       "      <td>54.6</td>\n",
       "      <td>...</td>\n",
       "      <td>Race/Ethnicity</td>\n",
       "      <td>Native Am/Alaskan Native</td>\n",
       "      <td>POINT (-111.7638113 34.86597028)</td>\n",
       "      <td>C02</td>\n",
       "      <td>TNC04</td>\n",
       "      <td>Q13</td>\n",
       "      <td>4</td>\n",
       "      <td>50to64</td>\n",
       "      <td>RACE</td>\n",
       "      <td>NAA</td>\n",
       "    </tr>\n",
       "    <tr>\n",
       "      <th>59</th>\n",
       "      <td>2020</td>\n",
       "      <td>2020</td>\n",
       "      <td>Alaska</td>\n",
       "      <td>Nutrition/Physical Activity/Obesity</td>\n",
       "      <td>Obesity</td>\n",
       "      <td>Percentage of older adults who are currently o...</td>\n",
       "      <td>%</td>\n",
       "      <td>PRCTG</td>\n",
       "      <td>33.0</td>\n",
       "      <td>33.0</td>\n",
       "      <td>...</td>\n",
       "      <td>Gender</td>\n",
       "      <td>Male</td>\n",
       "      <td>POINT (-147.722059 64.84507996)</td>\n",
       "      <td>C02</td>\n",
       "      <td>TNC04</td>\n",
       "      <td>Q13</td>\n",
       "      <td>2</td>\n",
       "      <td>over65</td>\n",
       "      <td>GENDER</td>\n",
       "      <td>MALE</td>\n",
       "    </tr>\n",
       "    <tr>\n",
       "      <th>93</th>\n",
       "      <td>2020</td>\n",
       "      <td>2020</td>\n",
       "      <td>Alaska</td>\n",
       "      <td>Nutrition/Physical Activity/Obesity</td>\n",
       "      <td>Obesity</td>\n",
       "      <td>Percentage of older adults who are currently o...</td>\n",
       "      <td>%</td>\n",
       "      <td>PRCTG</td>\n",
       "      <td>42.1</td>\n",
       "      <td>42.1</td>\n",
       "      <td>...</td>\n",
       "      <td>Race/Ethnicity</td>\n",
       "      <td>Native Am/Alaskan Native</td>\n",
       "      <td>POINT (-147.722059 64.84507996)</td>\n",
       "      <td>C02</td>\n",
       "      <td>TNC04</td>\n",
       "      <td>Q13</td>\n",
       "      <td>2</td>\n",
       "      <td>under50</td>\n",
       "      <td>RACE</td>\n",
       "      <td>NAA</td>\n",
       "    </tr>\n",
       "    <tr>\n",
       "      <th>99</th>\n",
       "      <td>2018</td>\n",
       "      <td>2018</td>\n",
       "      <td>Alaska</td>\n",
       "      <td>Nutrition/Physical Activity/Obesity</td>\n",
       "      <td>Obesity</td>\n",
       "      <td>Percentage of older adults who are currently o...</td>\n",
       "      <td>%</td>\n",
       "      <td>PRCTG</td>\n",
       "      <td>32.4</td>\n",
       "      <td>32.4</td>\n",
       "      <td>...</td>\n",
       "      <td>Race/Ethnicity</td>\n",
       "      <td>White, non-Hispanic</td>\n",
       "      <td>POINT (-147.722059 64.84507996)</td>\n",
       "      <td>C02</td>\n",
       "      <td>TNC04</td>\n",
       "      <td>Q13</td>\n",
       "      <td>2</td>\n",
       "      <td>under50</td>\n",
       "      <td>RACE</td>\n",
       "      <td>WHT</td>\n",
       "    </tr>\n",
       "  </tbody>\n",
       "</table>\n",
       "<p>5 rows × 26 columns</p>\n",
       "</div>"
      ],
      "text/plain": [
       "    YearStart  YearEnd LocationDesc                                Class  \\\n",
       "49       2017     2017       Alaska  Nutrition/Physical Activity/Obesity   \n",
       "56       2017     2017      Arizona  Nutrition/Physical Activity/Obesity   \n",
       "59       2020     2020       Alaska  Nutrition/Physical Activity/Obesity   \n",
       "93       2020     2020       Alaska  Nutrition/Physical Activity/Obesity   \n",
       "99       2018     2018       Alaska  Nutrition/Physical Activity/Obesity   \n",
       "\n",
       "      Topic                                           Question  \\\n",
       "49  Obesity  Percentage of older adults who are currently o...   \n",
       "56  Obesity  Percentage of older adults who are currently o...   \n",
       "59  Obesity  Percentage of older adults who are currently o...   \n",
       "93  Obesity  Percentage of older adults who are currently o...   \n",
       "99  Obesity  Percentage of older adults who are currently o...   \n",
       "\n",
       "   Data_Value_Unit DataValueTypeID  Data_Value  Data_Value_Alt  ...  \\\n",
       "49               %           PRCTG         NaN             NaN  ...   \n",
       "56               %           PRCTG        54.6            54.6  ...   \n",
       "59               %           PRCTG        33.0            33.0  ...   \n",
       "93               %           PRCTG        42.1            42.1  ...   \n",
       "99               %           PRCTG        32.4            32.4  ...   \n",
       "\n",
       "   StratificationCategory2           Stratification2  \\\n",
       "49          Race/Ethnicity                  Hispanic   \n",
       "56          Race/Ethnicity  Native Am/Alaskan Native   \n",
       "59                  Gender                      Male   \n",
       "93          Race/Ethnicity  Native Am/Alaskan Native   \n",
       "99          Race/Ethnicity       White, non-Hispanic   \n",
       "\n",
       "                         Geolocation ClassID TopicID QuestionID LocationID  \\\n",
       "49   POINT (-147.722059 64.84507996)     C02   TNC04        Q13          2   \n",
       "56  POINT (-111.7638113 34.86597028)     C02   TNC04        Q13          4   \n",
       "59   POINT (-147.722059 64.84507996)     C02   TNC04        Q13          2   \n",
       "93   POINT (-147.722059 64.84507996)     C02   TNC04        Q13          2   \n",
       "99   POINT (-147.722059 64.84507996)     C02   TNC04        Q13          2   \n",
       "\n",
       "   StratificationID1 StratificationCategoryID2 StratificationID2  \n",
       "49            over65                      RACE               HIS  \n",
       "56            50to64                      RACE               NAA  \n",
       "59            over65                    GENDER              MALE  \n",
       "93           under50                      RACE               NAA  \n",
       "99           under50                      RACE               WHT  \n",
       "\n",
       "[5 rows x 26 columns]"
      ]
     },
     "execution_count": 31,
     "metadata": {},
     "output_type": "execute_result"
    }
   ],
   "source": [
    "ob = df.loc[df['Question']== \"Percentage of older adults who are currently obese, with a body mass index (BMI) of 30 or more\"]\n",
    "ob.head()"
   ]
  },
  {
   "cell_type": "code",
   "execution_count": 32,
   "id": "9ebac508",
   "metadata": {},
   "outputs": [
    {
     "data": {
      "text/plain": [
       "%    8300\n",
       "Name: Data_Value_Unit, dtype: int64"
      ]
     },
     "execution_count": 32,
     "metadata": {},
     "output_type": "execute_result"
    }
   ],
   "source": [
    "ob['Data_Value_Unit'].value_counts()"
   ]
  },
  {
   "cell_type": "code",
   "execution_count": 33,
   "id": "a4d9ef1c",
   "metadata": {},
   "outputs": [
    {
     "data": {
      "text/plain": [
       "PRCTG    8300\n",
       "Name: DataValueTypeID, dtype: int64"
      ]
     },
     "execution_count": 33,
     "metadata": {},
     "output_type": "execute_result"
    }
   ],
   "source": [
    "ob['DataValueTypeID'].value_counts()"
   ]
  },
  {
   "cell_type": "code",
   "execution_count": 34,
   "id": "380ea0bc",
   "metadata": {},
   "outputs": [
    {
     "data": {
      "text/plain": [
       "Obesity    8300\n",
       "Name: Topic, dtype: int64"
      ]
     },
     "execution_count": 34,
     "metadata": {},
     "output_type": "execute_result"
    }
   ],
   "source": [
    "ob['Topic'].value_counts()"
   ]
  },
  {
   "cell_type": "code",
   "execution_count": 35,
   "id": "2d7694db",
   "metadata": {},
   "outputs": [
    {
     "data": {
      "text/plain": [
       "Q13    8300\n",
       "Name: QuestionID, dtype: int64"
      ]
     },
     "execution_count": 35,
     "metadata": {},
     "output_type": "execute_result"
    }
   ],
   "source": [
    "ob['QuestionID'].value_counts()"
   ]
  },
  {
   "cell_type": "code",
   "execution_count": 36,
   "id": "f309f44f",
   "metadata": {},
   "outputs": [
    {
     "data": {
      "text/plain": [
       "C02    8300\n",
       "Name: ClassID, dtype: int64"
      ]
     },
     "execution_count": 36,
     "metadata": {},
     "output_type": "execute_result"
    }
   ],
   "source": [
    "ob['ClassID'].value_counts()"
   ]
  },
  {
   "cell_type": "code",
   "execution_count": 37,
   "id": "01d98319",
   "metadata": {},
   "outputs": [
    {
     "data": {
      "text/plain": [
       "TNC04    8300\n",
       "Name: TopicID, dtype: int64"
      ]
     },
     "execution_count": 37,
     "metadata": {},
     "output_type": "execute_result"
    }
   ],
   "source": [
    "ob['TopicID'].value_counts()"
   ]
  },
  {
   "cell_type": "code",
   "execution_count": 38,
   "id": "4c20a009",
   "metadata": {},
   "outputs": [
    {
     "data": {
      "text/plain": [
       "****    2206\n",
       "&        295\n",
       "~        205\n",
       "#         30\n",
       "Name: Data_Value_Footnote_Symbol, dtype: int64"
      ]
     },
     "execution_count": 38,
     "metadata": {},
     "output_type": "execute_result"
    }
   ],
   "source": [
    "ob['Data_Value_Footnote_Symbol'].value_counts()"
   ]
  },
  {
   "cell_type": "code",
   "execution_count": 39,
   "id": "eeb097cf",
   "metadata": {},
   "outputs": [
    {
     "data": {
      "text/html": [
       "<div>\n",
       "<style scoped>\n",
       "    .dataframe tbody tr th:only-of-type {\n",
       "        vertical-align: middle;\n",
       "    }\n",
       "\n",
       "    .dataframe tbody tr th {\n",
       "        vertical-align: top;\n",
       "    }\n",
       "\n",
       "    .dataframe thead th {\n",
       "        text-align: right;\n",
       "    }\n",
       "</style>\n",
       "<table border=\"1\" class=\"dataframe\">\n",
       "  <thead>\n",
       "    <tr style=\"text-align: right;\">\n",
       "      <th></th>\n",
       "      <th>YearStart</th>\n",
       "      <th>YearEnd</th>\n",
       "      <th>LocationDesc</th>\n",
       "      <th>Class</th>\n",
       "      <th>Question</th>\n",
       "      <th>Data_Value</th>\n",
       "      <th>Data_Value_Alt</th>\n",
       "      <th>Data_Value_Footnote</th>\n",
       "      <th>Low_Confidence_Limit</th>\n",
       "      <th>High_Confidence_Limit</th>\n",
       "      <th>Stratification1</th>\n",
       "      <th>StratificationCategory2</th>\n",
       "      <th>Stratification2</th>\n",
       "      <th>Geolocation</th>\n",
       "      <th>LocationID</th>\n",
       "      <th>StratificationCategoryID2</th>\n",
       "      <th>StratificationID2</th>\n",
       "    </tr>\n",
       "  </thead>\n",
       "  <tbody>\n",
       "    <tr>\n",
       "      <th>49</th>\n",
       "      <td>2017</td>\n",
       "      <td>2017</td>\n",
       "      <td>Alaska</td>\n",
       "      <td>Nutrition/Physical Activity/Obesity</td>\n",
       "      <td>Percentage of older adults who are currently o...</td>\n",
       "      <td>NaN</td>\n",
       "      <td>NaN</td>\n",
       "      <td>Sample size of denominator and/or age group fo...</td>\n",
       "      <td>NaN</td>\n",
       "      <td>NaN</td>\n",
       "      <td>65 years or older</td>\n",
       "      <td>Race/Ethnicity</td>\n",
       "      <td>Hispanic</td>\n",
       "      <td>POINT (-147.722059 64.84507996)</td>\n",
       "      <td>2</td>\n",
       "      <td>RACE</td>\n",
       "      <td>HIS</td>\n",
       "    </tr>\n",
       "    <tr>\n",
       "      <th>56</th>\n",
       "      <td>2017</td>\n",
       "      <td>2017</td>\n",
       "      <td>Arizona</td>\n",
       "      <td>Nutrition/Physical Activity/Obesity</td>\n",
       "      <td>Percentage of older adults who are currently o...</td>\n",
       "      <td>54.6</td>\n",
       "      <td>54.6</td>\n",
       "      <td>NaN</td>\n",
       "      <td>44.7</td>\n",
       "      <td>64.2</td>\n",
       "      <td>50-64 years</td>\n",
       "      <td>Race/Ethnicity</td>\n",
       "      <td>Native Am/Alaskan Native</td>\n",
       "      <td>POINT (-111.7638113 34.86597028)</td>\n",
       "      <td>4</td>\n",
       "      <td>RACE</td>\n",
       "      <td>NAA</td>\n",
       "    </tr>\n",
       "    <tr>\n",
       "      <th>59</th>\n",
       "      <td>2020</td>\n",
       "      <td>2020</td>\n",
       "      <td>Alaska</td>\n",
       "      <td>Nutrition/Physical Activity/Obesity</td>\n",
       "      <td>Percentage of older adults who are currently o...</td>\n",
       "      <td>33.0</td>\n",
       "      <td>33.0</td>\n",
       "      <td>NaN</td>\n",
       "      <td>26.8</td>\n",
       "      <td>39.8</td>\n",
       "      <td>65 years or older</td>\n",
       "      <td>Gender</td>\n",
       "      <td>Male</td>\n",
       "      <td>POINT (-147.722059 64.84507996)</td>\n",
       "      <td>2</td>\n",
       "      <td>GENDER</td>\n",
       "      <td>MALE</td>\n",
       "    </tr>\n",
       "    <tr>\n",
       "      <th>93</th>\n",
       "      <td>2020</td>\n",
       "      <td>2020</td>\n",
       "      <td>Alaska</td>\n",
       "      <td>Nutrition/Physical Activity/Obesity</td>\n",
       "      <td>Percentage of older adults who are currently o...</td>\n",
       "      <td>42.1</td>\n",
       "      <td>42.1</td>\n",
       "      <td>NaN</td>\n",
       "      <td>33.5</td>\n",
       "      <td>51.3</td>\n",
       "      <td>Overall</td>\n",
       "      <td>Race/Ethnicity</td>\n",
       "      <td>Native Am/Alaskan Native</td>\n",
       "      <td>POINT (-147.722059 64.84507996)</td>\n",
       "      <td>2</td>\n",
       "      <td>RACE</td>\n",
       "      <td>NAA</td>\n",
       "    </tr>\n",
       "    <tr>\n",
       "      <th>99</th>\n",
       "      <td>2018</td>\n",
       "      <td>2018</td>\n",
       "      <td>Alaska</td>\n",
       "      <td>Nutrition/Physical Activity/Obesity</td>\n",
       "      <td>Percentage of older adults who are currently o...</td>\n",
       "      <td>32.4</td>\n",
       "      <td>32.4</td>\n",
       "      <td>NaN</td>\n",
       "      <td>28.9</td>\n",
       "      <td>36.2</td>\n",
       "      <td>Overall</td>\n",
       "      <td>Race/Ethnicity</td>\n",
       "      <td>White, non-Hispanic</td>\n",
       "      <td>POINT (-147.722059 64.84507996)</td>\n",
       "      <td>2</td>\n",
       "      <td>RACE</td>\n",
       "      <td>WHT</td>\n",
       "    </tr>\n",
       "  </tbody>\n",
       "</table>\n",
       "</div>"
      ],
      "text/plain": [
       "    YearStart  YearEnd LocationDesc                                Class  \\\n",
       "49       2017     2017       Alaska  Nutrition/Physical Activity/Obesity   \n",
       "56       2017     2017      Arizona  Nutrition/Physical Activity/Obesity   \n",
       "59       2020     2020       Alaska  Nutrition/Physical Activity/Obesity   \n",
       "93       2020     2020       Alaska  Nutrition/Physical Activity/Obesity   \n",
       "99       2018     2018       Alaska  Nutrition/Physical Activity/Obesity   \n",
       "\n",
       "                                             Question  Data_Value  \\\n",
       "49  Percentage of older adults who are currently o...         NaN   \n",
       "56  Percentage of older adults who are currently o...        54.6   \n",
       "59  Percentage of older adults who are currently o...        33.0   \n",
       "93  Percentage of older adults who are currently o...        42.1   \n",
       "99  Percentage of older adults who are currently o...        32.4   \n",
       "\n",
       "    Data_Value_Alt                                Data_Value_Footnote  \\\n",
       "49             NaN  Sample size of denominator and/or age group fo...   \n",
       "56            54.6                                                NaN   \n",
       "59            33.0                                                NaN   \n",
       "93            42.1                                                NaN   \n",
       "99            32.4                                                NaN   \n",
       "\n",
       "   Low_Confidence_Limit High_Confidence_Limit    Stratification1  \\\n",
       "49                  NaN                   NaN  65 years or older   \n",
       "56                 44.7                  64.2        50-64 years   \n",
       "59                 26.8                  39.8  65 years or older   \n",
       "93                 33.5                  51.3            Overall   \n",
       "99                 28.9                  36.2            Overall   \n",
       "\n",
       "   StratificationCategory2           Stratification2  \\\n",
       "49          Race/Ethnicity                  Hispanic   \n",
       "56          Race/Ethnicity  Native Am/Alaskan Native   \n",
       "59                  Gender                      Male   \n",
       "93          Race/Ethnicity  Native Am/Alaskan Native   \n",
       "99          Race/Ethnicity       White, non-Hispanic   \n",
       "\n",
       "                         Geolocation  LocationID StratificationCategoryID2  \\\n",
       "49   POINT (-147.722059 64.84507996)           2                      RACE   \n",
       "56  POINT (-111.7638113 34.86597028)           4                      RACE   \n",
       "59   POINT (-147.722059 64.84507996)           2                    GENDER   \n",
       "93   POINT (-147.722059 64.84507996)           2                      RACE   \n",
       "99   POINT (-147.722059 64.84507996)           2                      RACE   \n",
       "\n",
       "   StratificationID2  \n",
       "49               HIS  \n",
       "56               NAA  \n",
       "59              MALE  \n",
       "93               NAA  \n",
       "99               WHT  "
      ]
     },
     "execution_count": 39,
     "metadata": {},
     "output_type": "execute_result"
    }
   ],
   "source": [
    "ob = ob.drop(columns=['Data_Value_Unit', 'DataValueTypeID', 'Topic', 'QuestionID', 'ClassID', 'TopicID',\n",
    "                      'Data_Value_Footnote_Symbol', 'StratificationID1', 'StratificationCategory1'])\n",
    "ob.head()"
   ]
  },
  {
   "cell_type": "code",
   "execution_count": 43,
   "id": "40c3c60b",
   "metadata": {},
   "outputs": [
    {
     "data": {
      "text/plain": [
       "Sample size of denominator and/or age group for age-standardization is less than 50 or relative standard error is more than 30%    2206\n",
       "Regional estimates may not represent all states in the region                                                                       295\n",
       "No Data Available                                                                                                                   205\n",
       "Fewer than 50 States reporting                                                                                                       30\n",
       "Name: Data_Value_Footnote, dtype: int64"
      ]
     },
     "execution_count": 43,
     "metadata": {},
     "output_type": "execute_result"
    }
   ],
   "source": [
    "ob['Data_Value_Footnote'].value_counts()"
   ]
  },
  {
   "cell_type": "markdown",
   "id": "e116b6ef",
   "metadata": {},
   "source": [
    "### Next step is addressing the disparate stratification groups, which will have to be either race/ethnicity or gender for cat 2"
   ]
  },
  {
   "cell_type": "code",
   "execution_count": 40,
   "id": "4adca431",
   "metadata": {},
   "outputs": [
    {
     "data": {
      "text/plain": [
       "Race/Ethnicity    5168\n",
       "Gender            2088\n",
       "Name: StratificationCategory2, dtype: int64"
      ]
     },
     "execution_count": 40,
     "metadata": {},
     "output_type": "execute_result"
    }
   ],
   "source": [
    "ob['StratificationCategory2'].value_counts()"
   ]
  }
 ],
 "metadata": {
  "kernelspec": {
   "display_name": "Python (dojo-env)",
   "language": "python",
   "name": "dojo-env"
  },
  "language_info": {
   "codemirror_mode": {
    "name": "ipython",
    "version": 3
   },
   "file_extension": ".py",
   "mimetype": "text/x-python",
   "name": "python",
   "nbconvert_exporter": "python",
   "pygments_lexer": "ipython3",
   "version": "3.8.13"
  },
  "toc": {
   "base_numbering": 1,
   "nav_menu": {},
   "number_sections": true,
   "sideBar": true,
   "skip_h1_title": false,
   "title_cell": "Table of Contents",
   "title_sidebar": "Contents",
   "toc_cell": false,
   "toc_position": {},
   "toc_section_display": true,
   "toc_window_display": false
  }
 },
 "nbformat": 4,
 "nbformat_minor": 5
}
